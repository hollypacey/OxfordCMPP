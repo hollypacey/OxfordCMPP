{
 "cells": [
  {
   "cell_type": "code",
   "execution_count": null,
   "metadata": {},
   "outputs": [],
   "source": [
    "import ROOT as r\n",
    "from ROOT import TH1D, TFile, TChain, TCanvas, TBranchElement, TLorentzVector\n",
    "\n",
    "luminosity_ifb = 10\n",
    "\n",
    "def createDirs(path):\n",
    "    \"\"\"\n",
    "    Function to create any directories needed to store the output of a function.\n",
    "\n",
    "    Args:\n",
    "        path (str): the path of directories you want to exist\n",
    "\n",
    "    Returns:\n",
    "        void\n",
    "    \"\"\"\n",
    "    base = path.split(\"/\")[0]\n",
    "    dirs = path.split(\"/\")[:]\n",
    "    tmp_dir = \"\"\n",
    "    for folder in dirs:\n",
    "        tmp_dir = tmp_dir + \"/\" + folder\n",
    "        if not os.path.isdir(base+\"/\"+tmp_dir):\n",
    "            try:\n",
    "                os.mkdir(base+\"/\"+tmp_dir)\n",
    "                print(\"creating: \", base+\"/\"+tmp_dir)\n",
    "            except OSError as error:\n",
    "                print(error)\n",
    "\n",
    "# Define out input and output paths, make sure the output path exists.\n",
    "hist_path = \"./histograms/GamGam_root/\"\n",
    "plot_path = \"./plots/GamGam_root/\"\n",
    "createDirs(output_path)"
   ]
  },
  {
   "cell_type": "code",
   "execution_count": null,
   "metadata": {},
   "outputs": [],
   "source": [
    "def plotStack(hists):\n",
    "    c = TCanvas()\n",
    "    stack = TStack()\n",
    "    for hist in hists:\n",
    "        \n"
   ]
  },
  {
   "cell_type": "code",
   "execution_count": null,
   "metadata": {},
   "outputs": [],
   "source": [
    "def plotWithFit(datahist, signalhist):\n",
    "    c = TCanvas()\n",
    "    data = datahist"
   ]
  }
 ],
 "metadata": {
  "language_info": {
   "name": "python"
  }
 },
 "nbformat": 4,
 "nbformat_minor": 2
}
