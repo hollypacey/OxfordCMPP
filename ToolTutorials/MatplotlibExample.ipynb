{
 "cells": [
  {
   "cell_type": "code",
   "execution_count": null,
   "id": "053de526",
   "metadata": {},
   "outputs": [],
   "source": [
    "%matplotlib inline\n",
    "import matplotlib.pyplot as plt\n",
    "import numpy as np"
   ]
  },
  {
   "cell_type": "code",
   "execution_count": null,
   "id": "20a46278",
   "metadata": {},
   "outputs": [],
   "source": [
    "# Scatter plot\n",
    "x = [1,2,3,4]\n",
    "y = [3,4,8,6]\n",
    "\n",
    "plt.scatter(x,y)\n",
    "plt.ylabel('y axis')\n",
    "plt.xlabel('x axis')\n",
    "plt.show()\n",
    "\n",
    "# Exercise 1: draw a scatter plot with y-errors, e.g. 10% of the y-value\n",
    "# Exercise 2 - tricky: draw a histogram where the y-values are the bin contents"
   ]
  },
  {
   "cell_type": "code",
   "execution_count": null,
   "id": "c2dad764",
   "metadata": {},
   "outputs": [],
   "source": [
    "# Plot a function\n",
    "plt.plot(np.cos(np.linspace(0, 20)))\n",
    "plt.title('Sin Test')\n",
    "plt.ylabel('y axis')\n",
    "plt.xlabel('x axis')\n",
    "plt.show()"
   ]
  },
  {
   "cell_type": "code",
   "execution_count": null,
   "id": "9859c5e3",
   "metadata": {},
   "outputs": [],
   "source": [
    "# More complex graphics using the seaborn library\n",
    "import seaborn as sns\n",
    "sns.set(style='ticks')\n",
    "\n",
    "import matplotlib.cm as cm\n",
    "import matplotlib as mpl\n",
    "\n",
    "# Data taken from \n",
    "# https://www.northeastern.edu/graduate/blog/most-popular-programming-languages/\n",
    "import pandas as pd\n",
    "lang_data = pd.read_csv('../Datasets/lang_data.csv')\n",
    "\n",
    "# Exercise 3: show the raw data\n",
    "\n",
    "fig = plt.figure(1, figsize=(12, 5))\n",
    "N = len(lang_data)\n",
    "\n",
    "\n",
    "def show(ax, what, data, n, cmap):\n",
    "    angles = np.arange(0, 360., 360./n)\n",
    "    bars = ax.bar([np.deg2rad(angle) for angle in angles], \n",
    "                  [k for k in data[what]], width=0.5)\n",
    "    norm = mpl.colors.Normalize(vmin=min(data[what]), vmax=max(data[what]))\n",
    "    m = cm.ScalarMappable(norm=norm, cmap=cmap)\n",
    "    for index, bar in enumerate(bars):\n",
    "        bar.set_facecolor(m.to_rgba(data.loc[index, what]))\n",
    "        bar.set_alpha(0.9)\n",
    "        ax.set_yticklabels([])\n",
    "        ax.yaxis.grid(True)\n",
    "        l, text = ax.set_thetagrids(\n",
    "                    angles, \n",
    "                    labels=['{}\\n{:d}k'.format(row['Language'], int(0.001*row[what])) \n",
    "                            for index, row in data.iterrows()])\n",
    "        ax.text(0.5, 0.5, what, size=20, ha='center', va='center')\n",
    "        ax.set_rorigin(-1)\n",
    "\n",
    "ax = fig.add_subplot(1, 2, 1, projection='polar')\n",
    "show(ax=ax, data=lang_data, what='Number of jobs', n=N, cmap=cm.GnBu)\n",
    "ax = fig.add_subplot(1, 2, 2, projection='polar')\n",
    "show(ax=ax, data=lang_data, what='Average annual salary', n=N, cmap=cm.OrRd)"
   ]
  },
  {
   "cell_type": "code",
   "execution_count": null,
   "id": "eb30313d",
   "metadata": {},
   "outputs": [],
   "source": [
    "# And now trying to add widgets to speed-up/simplify certain tasks\n",
    "from ipywidgets import interact, FloatSlider\n",
    "import matplotlib.transforms as transforms\n",
    "\n",
    "x_widget = FloatSlider(min=-10.0, max=10.0, step=0.1, value=0)\n",
    "y_widget = FloatSlider(min=0.1, max=5.0, step=0.05, value=1)\n",
    "\n",
    "def gauss_plot(x, y):\n",
    "    fig = plt.figure(1, figsize=(6, 6))\n",
    "    data = np.random.normal(x, y, 10000)\n",
    "    ax = plt.axes()\n",
    "    ax.hist(data, 50, histtype='stepfilled', facecolor='coral', density=True)\n",
    "    # Exercise 4: what are the arguments in the hist function?\n",
    "    ax.axvline(data.mean(), color='k', ymax=0.8, linestyle='dashed', linewidth=1)\n",
    "    shift = 0.01*(ax.get_xlim()[1] - ax.get_xlim()[0])\n",
    "    trans = transforms.blended_transform_factory(ax.transData, ax.transAxes)\n",
    "    ax.text(data.mean()+shift, 0.1, 'mean', rotation=270, \n",
    "             transform=trans, horizontalalignment='left')\n",
    "    for p in [0.05, 0.95]:\n",
    "        ax.axvline(np.quantile(data, p), color='k', ymax=0.5, linestyle='dashed', linewidth=1)\n",
    "        ax.text(np.quantile(data, p)+shift, 0.1, '{:d}%'.format(int(p*100)), \n",
    "                rotation=270, transform=trans, horizontalalignment='left')\n",
    "        \n",
    "    ax.text(np.quantile(data, 0.001), 0.9*max(ax.get_ylim()), '$\\mu = {}$'.format(x))\n",
    "    ax.text(np.quantile(data, 0.001), 0.8*max(ax.get_ylim()), '$\\sigma = {}$'.format(y))\n",
    "    \n",
    "\n",
    "interact(gauss_plot, x=x_widget, y=y_widget)\n",
    "\n",
    "# Exercise 5 - bonus : draw a gaussian distribution over the histogram"
   ]
  }
 ],
 "metadata": {
  "kernelspec": {
   "display_name": "Python 3",
   "language": "python",
   "name": "python3"
  },
  "language_info": {
   "codemirror_mode": {
    "name": "ipython",
    "version": 3
   },
   "file_extension": ".py",
   "mimetype": "text/x-python",
   "name": "python",
   "nbconvert_exporter": "python",
   "pygments_lexer": "ipython3",
   "version": "3.9.12"
  }
 },
 "nbformat": 4,
 "nbformat_minor": 5
}
